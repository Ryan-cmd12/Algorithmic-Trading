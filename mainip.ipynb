{
 "cells": [
  {
   "cell_type": "code",
   "execution_count": 2,
   "id": "6ab41c1a-cba2-4e5a-9486-c7c7827f16d7",
   "metadata": {},
   "outputs": [
    {
     "name": "stdout",
     "output_type": "stream",
     "text": [
      "Requirement already satisfied: numpy in c:\\users\\ryans\\anaconda3\\lib\\site-packages (1.26.0)\n",
      "Note: you may need to restart the kernel to use updated packages.\n"
     ]
    }
   ],
   "source": [
    "pip install numpy"
   ]
  },
  {
   "cell_type": "code",
   "execution_count": 44,
   "id": "5e6c96bd-d7f5-4893-9b5c-309e6d1f6abe",
   "metadata": {},
   "outputs": [
    {
     "data": {
      "text/html": [
       "<div>\n",
       "<style scoped>\n",
       "    .dataframe tbody tr th:only-of-type {\n",
       "        vertical-align: middle;\n",
       "    }\n",
       "\n",
       "    .dataframe tbody tr th {\n",
       "        vertical-align: top;\n",
       "    }\n",
       "\n",
       "    .dataframe thead th {\n",
       "        text-align: right;\n",
       "    }\n",
       "</style>\n",
       "<table border=\"1\" class=\"dataframe\">\n",
       "  <thead>\n",
       "    <tr style=\"text-align: right;\">\n",
       "      <th></th>\n",
       "      <th>Price</th>\n",
       "      <th>close</th>\n",
       "      <th>high</th>\n",
       "      <th>low</th>\n",
       "      <th>open</th>\n",
       "      <th>volume</th>\n",
       "    </tr>\n",
       "    <tr>\n",
       "      <th>Date</th>\n",
       "      <th>Ticker</th>\n",
       "      <th></th>\n",
       "      <th></th>\n",
       "      <th></th>\n",
       "      <th></th>\n",
       "      <th></th>\n",
       "    </tr>\n",
       "  </thead>\n",
       "  <tbody>\n",
       "    <tr>\n",
       "      <th rowspan=\"5\" valign=\"top\">2017-06-05</th>\n",
       "      <th>A</th>\n",
       "      <td>56.852486</td>\n",
       "      <td>57.266642</td>\n",
       "      <td>56.786597</td>\n",
       "      <td>57.228990</td>\n",
       "      <td>1473300.0</td>\n",
       "    </tr>\n",
       "    <tr>\n",
       "      <th>AAPL</th>\n",
       "      <td>35.854847</td>\n",
       "      <td>35.975971</td>\n",
       "      <td>35.745373</td>\n",
       "      <td>35.950349</td>\n",
       "      <td>101326800.0</td>\n",
       "    </tr>\n",
       "    <tr>\n",
       "      <th>ABBV</th>\n",
       "      <td>47.947414</td>\n",
       "      <td>48.195993</td>\n",
       "      <td>47.499968</td>\n",
       "      <td>47.762754</td>\n",
       "      <td>4918100.0</td>\n",
       "    </tr>\n",
       "    <tr>\n",
       "      <th>ABT</th>\n",
       "      <td>40.446308</td>\n",
       "      <td>40.559094</td>\n",
       "      <td>40.238092</td>\n",
       "      <td>40.402930</td>\n",
       "      <td>7810600.0</td>\n",
       "    </tr>\n",
       "    <tr>\n",
       "      <th>ACGL</th>\n",
       "      <td>31.167286</td>\n",
       "      <td>31.420855</td>\n",
       "      <td>31.094383</td>\n",
       "      <td>31.249697</td>\n",
       "      <td>2004900.0</td>\n",
       "    </tr>\n",
       "    <tr>\n",
       "      <th>...</th>\n",
       "      <th>...</th>\n",
       "      <td>...</td>\n",
       "      <td>...</td>\n",
       "      <td>...</td>\n",
       "      <td>...</td>\n",
       "      <td>...</td>\n",
       "    </tr>\n",
       "    <tr>\n",
       "      <th rowspan=\"5\" valign=\"top\">2025-05-30</th>\n",
       "      <th>XYL</th>\n",
       "      <td>126.040001</td>\n",
       "      <td>126.690002</td>\n",
       "      <td>125.199997</td>\n",
       "      <td>126.519997</td>\n",
       "      <td>2624100.0</td>\n",
       "    </tr>\n",
       "    <tr>\n",
       "      <th>YUM</th>\n",
       "      <td>143.940002</td>\n",
       "      <td>144.479996</td>\n",
       "      <td>143.089996</td>\n",
       "      <td>144.039993</td>\n",
       "      <td>3184400.0</td>\n",
       "    </tr>\n",
       "    <tr>\n",
       "      <th>ZBH</th>\n",
       "      <td>92.169998</td>\n",
       "      <td>93.040001</td>\n",
       "      <td>91.440002</td>\n",
       "      <td>92.940002</td>\n",
       "      <td>3505200.0</td>\n",
       "    </tr>\n",
       "    <tr>\n",
       "      <th>ZBRA</th>\n",
       "      <td>289.769989</td>\n",
       "      <td>290.559998</td>\n",
       "      <td>283.920013</td>\n",
       "      <td>289.929993</td>\n",
       "      <td>656100.0</td>\n",
       "    </tr>\n",
       "    <tr>\n",
       "      <th>ZTS</th>\n",
       "      <td>168.630005</td>\n",
       "      <td>169.789993</td>\n",
       "      <td>165.339996</td>\n",
       "      <td>166.919998</td>\n",
       "      <td>5467800.0</td>\n",
       "    </tr>\n",
       "  </tbody>\n",
       "</table>\n",
       "<p>990176 rows × 5 columns</p>\n",
       "</div>"
      ],
      "text/plain": [
       "Price                   close        high         low        open       volume\n",
       "Date       Ticker                                                             \n",
       "2017-06-05 A        56.852486   57.266642   56.786597   57.228990    1473300.0\n",
       "           AAPL     35.854847   35.975971   35.745373   35.950349  101326800.0\n",
       "           ABBV     47.947414   48.195993   47.499968   47.762754    4918100.0\n",
       "           ABT      40.446308   40.559094   40.238092   40.402930    7810600.0\n",
       "           ACGL     31.167286   31.420855   31.094383   31.249697    2004900.0\n",
       "...                       ...         ...         ...         ...          ...\n",
       "2025-05-30 XYL     126.040001  126.690002  125.199997  126.519997    2624100.0\n",
       "           YUM     143.940002  144.479996  143.089996  144.039993    3184400.0\n",
       "           ZBH      92.169998   93.040001   91.440002   92.940002    3505200.0\n",
       "           ZBRA    289.769989  290.559998  283.920013  289.929993     656100.0\n",
       "           ZTS     168.630005  169.789993  165.339996  166.919998    5467800.0\n",
       "\n",
       "[990176 rows x 5 columns]"
      ]
     },
     "execution_count": 44,
     "metadata": {},
     "output_type": "execute_result"
    }
   ],
   "source": [
    "# from statsmodels.regression.rolling import RollingOLS\n",
    "# import pandas_datareader.data as web\n",
    "# import matplotlib.pyplot as plt\n",
    "# import statsmodels.api as sm\n",
    "# import pandas as pd\n",
    "# import numpy as np\n",
    "# import datetime as dt\n",
    "# import yfinance as yf\n",
    "# #import pandas_ta\n",
    "# import warnings\n",
    "# warnings.filterwarnings('ignore')\n",
    "\n",
    "# sp500 = pd.read_html('https://en.wikipedia.org/wiki/List_of_S%26P_500_companies')[0]\n",
    "# sp500['Symbol'] = sp500['Symbol'].str.replace('.','-')\n",
    "# symbols_list = sp500['Symbol'].unique().tolist()\n",
    "# end_date = '2025-06-01'\n",
    "# start_date = pd.to_datetime(end_date)-pd.DateOffset(365*8)\n",
    "# df = yf.download(tickers=symbols_list,\n",
    "#                  start=start_date,\n",
    "#                  end=end_date).stack()\n",
    "df.columns =  df.columns.str.lower()\n",
    "df"
   ]
  },
  {
   "cell_type": "code",
   "execution_count": null,
   "id": "0f6439b5-f411-4ce6-a083-158f8120aa8e",
   "metadata": {},
   "outputs": [],
   "source": [
    "#Technical indicators for each stock\n",
    "Garman-klass volatility\n",
    "RSI\n",
    "bollinger bands\n",
    "ATR\n",
    "MACD\n",
    "Dollar Volume"
   ]
  },
  {
   "cell_type": "code",
   "execution_count": 48,
   "id": "d4462226-a9f7-4093-a029-0665eb8ca6da",
   "metadata": {},
   "outputs": [],
   "source": [
    "data = [('m',float(3.28),'ft'),('ft',float(12),'in'),('hr',float(60),'min'),('min',float(60),'sec')]"
   ]
  },
  {
   "cell_type": "code",
   "execution_count": 80,
   "id": "ca158912-7f04-44ca-86d4-64ada89bb70d",
   "metadata": {},
   "outputs": [],
   "source": [
    "from collections import defaultdict, deque\n",
    "\n",
    "graph = defaultdict(list)\n",
    "for from_unit,multiplier,to_unit in data:\n",
    "    graph[from_unit].append((multiplier,to_unit))\n",
    "    graph[to_unit].append((1/multiplier,from_unit))\n",
    "\n",
    "def answer(curr_amt,curr_unit):\n",
    "    queue = deque([(curr_amt,curr_unit)])\n",
    "    if curr_unit not in graph or desired_unit not in graph:\n",
    "        return 'Not convertible'\n",
    "    visited = set()\n",
    "    visited.add(curr_unit)\n",
    "    while queue:\n",
    "        curr_amt, curr_unit = queue.popleft()\n",
    "        if curr_unit == desired_unit:\n",
    "            return curr_amt\n",
    "        for multiplier,next_unit in graph[curr_unit]:\n",
    "            if next_unit not in visited:\n",
    "                visited.add(next_unit)\n",
    "                curr_amt = curr_amt *multiplier\n",
    "                queue.append((curr_amt, next_unit))\n",
    "    return 'Not convertible'"
   ]
  },
  {
   "cell_type": "code",
   "execution_count": 92,
   "id": "cb6888a0-257b-4317-bb63-4c69b561cda6",
   "metadata": {},
   "outputs": [
    {
     "data": {
      "text/plain": [
       "9.0"
      ]
     },
     "execution_count": 92,
     "metadata": {},
     "output_type": "execute_result"
    }
   ],
   "source": [
    "desired_unit = 'm'\n",
    "answer(354.24,'in')"
   ]
  },
  {
   "cell_type": "code",
   "execution_count": 60,
   "id": "139c2e12-fd57-428b-b64a-71e33dfb49be",
   "metadata": {},
   "outputs": [
    {
     "data": {
      "text/plain": [
       "defaultdict(list,\n",
       "            {'m': [(3.28, 'ft')],\n",
       "             'ft': [(0.3048780487804878, 'm'), (12.0, 'in')],\n",
       "             'in': [(0.08333333333333333, 'ft')],\n",
       "             'hr': [(60.0, 'min')],\n",
       "             'min': [(0.016666666666666666, 'hr'), (60.0, 'sec')],\n",
       "             'sec': [(0.016666666666666666, 'min')]})"
      ]
     },
     "execution_count": 60,
     "metadata": {},
     "output_type": "execute_result"
    }
   ],
   "source": [
    "graph"
   ]
  },
  {
   "cell_type": "code",
   "execution_count": null,
   "id": "1857a69f-1c9d-4ae7-b518-3d5c56d0c294",
   "metadata": {},
   "outputs": [],
   "source": []
  }
 ],
 "metadata": {
  "kernelspec": {
   "display_name": "Python [conda env:base] *",
   "language": "python",
   "name": "conda-base-py"
  },
  "language_info": {
   "codemirror_mode": {
    "name": "ipython",
    "version": 3
   },
   "file_extension": ".py",
   "mimetype": "text/x-python",
   "name": "python",
   "nbconvert_exporter": "python",
   "pygments_lexer": "ipython3",
   "version": "3.12.7"
  }
 },
 "nbformat": 4,
 "nbformat_minor": 5
}
